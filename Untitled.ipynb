{
 "cells": [
  {
   "cell_type": "code",
   "execution_count": null,
   "metadata": {},
   "outputs": [],
   "source": [
    "#!/usr/bin/env python3\n",
    "# -*- coding: utf-8 -*-\n",
    "\"\"\"\n",
    "Created on Wed Jun  5 15:02:24 2019\n",
    "\n",
    "@author: chairat\n",
    "\"\"\"\n",
    "\n",
    "\n",
    "import cv2\n",
    "img = cv2.imread('./menu/L1M1.png',cv2.IMREAD_COLOR)\n",
    "#cv2.namedWindow(\"output\", cv2.WINDOW_NORMAL)\n",
    "#imS = cv2.resize(img, (1024, 640))\n",
    "cv2.rectangle(img,(40,161),(385,456),(0,255,0),15)\n",
    "cv2.rectangle(img,(626,161),(972,456),(0,255,0),15)\n",
    "cv2.imshow('image',img)\n",
    "\n",
    "cv2.waitKey(0)\n",
    "cv2.destroyAllWindows()"
   ]
  },
  {
   "cell_type": "code",
   "execution_count": null,
   "metadata": {},
   "outputs": [],
   "source": []
  }
 ],
 "metadata": {
  "kernelspec": {
   "display_name": "Python 3",
   "language": "python",
   "name": "python3"
  },
  "language_info": {
   "codemirror_mode": {
    "name": "ipython",
    "version": 3
   },
   "file_extension": ".py",
   "mimetype": "text/x-python",
   "name": "python",
   "nbconvert_exporter": "python",
   "pygments_lexer": "ipython3",
   "version": "3.6.5"
  }
 },
 "nbformat": 4,
 "nbformat_minor": 2
}
